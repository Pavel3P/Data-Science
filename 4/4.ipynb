{
 "cells": [
  {
   "cell_type": "markdown",
   "metadata": {},
   "source": [
    "# 4th lab:\n",
    "\n",
    "***prepared by Pavel 3P & Markov Artur ***\n"
   ]
  },
  {
   "cell_type": "markdown",
   "metadata": {},
   "source": [
    "### Area info:"
   ]
  },
  {
   "cell_type": "code",
   "execution_count": 209,
   "metadata": {},
   "outputs": [],
   "source": [
    "bottom_left = (29.073321247506765, 49.845775018245774)\n",
    "upper_right = (31.986007792928522, 51.278667808079206)\n",
    "\n",
    "#Filtering options:\n",
    "from_time = \"2019-04-01T00:00:00Z\"\n",
    "to_time = \"2020-05-01T00:00:00Z\"\n",
    "maxCloudCoverage = 0\n",
    "\n",
    "#In px:\n",
    "width = 2000\n",
    "height = 2000"
   ]
  },
  {
   "cell_type": "markdown",
   "metadata": {},
   "source": [
    "## First part:"
   ]
  },
  {
   "cell_type": "markdown",
   "metadata": {},
   "source": [
    "### Create session with server:"
   ]
  },
  {
   "cell_type": "code",
   "execution_count": 243,
   "metadata": {},
   "outputs": [],
   "source": [
    "from oauthlib.oauth2 import BackendApplicationClient\n",
    "from requests_oauthlib import OAuth2Session\n",
    "\n",
    "\n",
    "client_id = \"8d7432b3-19c9-4a6e-9d02-fcf865d1a6c6\"\n",
    "client_secret = \"fdR{0FFu(}F)KD/s@>9(w;28*]MHkQJoo_I!*Q73\"\n",
    "\n",
    "\n",
    "client = BackendApplicationClient(client_id=client_id)\n",
    "oauth = OAuth2Session(client=client)\n",
    "\n",
    "\n",
    "token = oauth.fetch_token(token_url='https://services.sentinel-hub.com/oauth/token',\n",
    "                          client_id=client_id, client_secret=client_secret)"
   ]
  },
  {
   "cell_type": "markdown",
   "metadata": {},
   "source": [
    "### get_band(band_num: int, img_format: str =\"tif\"):\n",
    "___\n",
    "\n",
    "Takes as arguments band number and image format to save. It downloads and saves 1-band image with target band to *./data/{band name}.{img_format}*\n",
    "___"
   ]
  },
  {
   "cell_type": "code",
   "execution_count": 240,
   "metadata": {},
   "outputs": [],
   "source": [
    "import requests\n",
    "import json\n",
    "import os\n",
    "\n",
    "def get_band(band_num: int, img_format: str = \"tif\"):\n",
    "    band_names = {\n",
    "        2: \"b\",\n",
    "        3: \"g\",\n",
    "        4: \"r\",\n",
    "        8: \"nir\",\n",
    "    }\n",
    "    req_data = {\n",
    "        \"input\": {\n",
    "            \"bounds\": {\n",
    "                \"bbox\": [\n",
    "                    bottom_left[0],\n",
    "                    bottom_left[1],\n",
    "                    upper_right[0],\n",
    "                    upper_right[1],\n",
    "                ]\n",
    "            },\n",
    "            \"data\": [\n",
    "                {\n",
    "                    \"type\": \"S2L2A\",\n",
    "                    \"dataFilter\": {\n",
    "                        \"timeRange\": {\n",
    "                            \"from\": from_time,\n",
    "                            \"to\": to_time,\n",
    "                        },\n",
    "                        \"maxCloudCoverage\": maxCloudCoverage,\n",
    "                    },\n",
    "                }\n",
    "            ]\n",
    "        },\n",
    "        \"output\": {\n",
    "            \"width\": width,\n",
    "            \"height\": height,\n",
    "            \"responses\": [{\n",
    "                \"format\": {\n",
    "                    \"type\": \"image/tiff\"\n",
    "                }\n",
    "            }]\n",
    "        },\n",
    "        \"evalscript\": \"\"\"\n",
    "        //VERSION=3\n",
    "\n",
    "        function setup() {\n",
    "          return {\n",
    "            input: [\"B0\"\"\" + str(band_num) + \"\"\"\"], \n",
    "            output: {\n",
    "              bands: 1\n",
    "            }\n",
    "          };\n",
    "        }\n",
    "\n",
    "        function evaluatePixel(\n",
    "          sample,\n",
    "          scenes,\n",
    "          inputMetadata,\n",
    "          customData,\n",
    "          outputMetadata\n",
    "        ) {\n",
    "          return [2.5 * sample.B0\"\"\" + str(band_num) + \"\"\"]; \n",
    "        }\n",
    "        \"\"\"\n",
    "    }\n",
    "    # 0 * sample.B04, 0 * sample.B03, 2.5 * sample.B02, 4-3-2-8 #\"B03\", \"B04\", \"B08\"\n",
    "    headers = {\n",
    "        \"Authorization\": f\"Bearer {token['access_token']}\",\n",
    "    }\n",
    "    url = \"https://services.sentinel-hub.com/api/v1/process\"\n",
    "\n",
    "    response = requests.post(url, json=req_data, headers=headers)\n",
    "    \n",
    "    if not os.path.isdir(\"data\"):\n",
    "        os.mkdir(\"data\")\n",
    "    \n",
    "    with open(f\"data/{band_names[band_num]}.{img_format}\", \"wb\") as img:\n",
    "        img.write(response.content)"
   ]
  },
  {
   "cell_type": "markdown",
   "metadata": {},
   "source": [
    "### Getting all necessary bands:"
   ]
  },
  {
   "cell_type": "code",
   "execution_count": 244,
   "metadata": {},
   "outputs": [],
   "source": [
    "get_band(2)\n",
    "get_band(3)\n",
    "get_band(4)\n",
    "get_band(8)"
   ]
  }
 ],
 "metadata": {
  "kernelspec": {
   "display_name": "Python 3",
   "language": "python",
   "name": "python3"
  },
  "language_info": {
   "codemirror_mode": {
    "name": "ipython",
    "version": 3
   },
   "file_extension": ".py",
   "mimetype": "text/x-python",
   "name": "python",
   "nbconvert_exporter": "python",
   "pygments_lexer": "ipython3",
   "version": "3.7.6"
  }
 },
 "nbformat": 4,
 "nbformat_minor": 4
}