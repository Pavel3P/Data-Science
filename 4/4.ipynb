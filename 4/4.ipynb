{
 "cells": [
  {
   "cell_type": "markdown",
   "metadata": {},
   "source": [
    "# 4th lab:\n",
    "___\n",
    "***prepared by Pavel 3P & Markov Arthur***"
   ]
  },
  {
   "cell_type": "markdown",
   "metadata": {},
   "source": [
    "#### *TODO*:\n",
    "\n",
    "1. Pansharpening methods analysing."
   ]
  },
  {
   "cell_type": "markdown",
   "metadata": {},
   "source": [
    "### Area info:"
   ]
  },
  {
   "cell_type": "code",
   "execution_count": 1,
   "metadata": {},
   "outputs": [],
   "source": [
    "bottom_left = (30.073321247506765, 49.345775018245774)\n",
    "upper_right = (32.986007792928522, 50.778667808079206)\n",
    "\n",
    "#Filtering options:\n",
    "from_time = \"2017-04-01T00:00:00Z\"\n",
    "to_time = \"2020-05-01T00:00:00Z\"\n",
    "maxCloudCoverage = 0\n",
    "mosaickingOrder = \"leastRecent\"\n",
    "\n",
    "#Image size in px: (2500px is max)\n",
    "width = 2500\n",
    "height = 2500"
   ]
  },
  {
   "cell_type": "markdown",
   "metadata": {},
   "source": [
    "## First part:"
   ]
  },
  {
   "cell_type": "markdown",
   "metadata": {},
   "source": [
    "### Create session with server:"
   ]
  },
  {
   "cell_type": "code",
   "execution_count": 58,
   "metadata": {},
   "outputs": [],
   "source": [
    "from oauthlib.oauth2 import BackendApplicationClient\n",
    "from requests_oauthlib import OAuth2Session\n",
    "\n",
    "def get_token():\n",
    "    client_id = \"8d7432b3-19c9-4a6e-9d02-fcf865d1a6c6\"\n",
    "    client_secret = \"fdR{0FFu(}F)KD/s@>9(w;28*]MHkQJoo_I!*Q73\"\n",
    "\n",
    "\n",
    "    client = BackendApplicationClient(client_id=client_id)\n",
    "    oauth = OAuth2Session(client=client)\n",
    "\n",
    "\n",
    "    token = oauth.fetch_token(token_url='https://services.sentinel-hub.com/oauth/token',\n",
    "                              client_id=client_id, client_secret=client_secret)\n",
    "    return token['access_token']\n",
    "\n",
    "token = get_token()"
   ]
  },
  {
   "cell_type": "markdown",
   "metadata": {},
   "source": [
    "<span style=\"font-size: 115%; font-family: courier new\">\n",
    "    <span style=\"color: green\"><b>def </b></span>\n",
    "    <span style=\"color: blue\">get_image</span>\n",
    "    (satellite: <span style=\"color: green\">str</span>, \n",
    "    bands, \n",
    "    merge=<span style=\"color: green\"><b>True</b></span>, \n",
    "    img_name: <span style=\"color: green\">str</span> =\"image\", \n",
    "    img_format: <span style=\"color: green\">str</span> =\"tiff\"):\n",
    "</span>\n",
    "\n",
    "___\n",
    "*satellite*: str. Satellite name (sentinel/landsat).\n",
    "\n",
    "*bands*: list or int. Bands to download.\n",
    "\n",
    "*merge*=__True__: bool. If it's __True__ merges all bands in one image. If it's __False__ downloads bands separately and saves them in it's individual file.\n",
    "\n",
    "*img_name*=\"image\": str or list. Name of image. If merge=__False__ it may be ignored or it must be a list of names with length equal to length of the *bands*.\n",
    "\n",
    "*img_format*=\"tiff\": str. Image format."
   ]
  },
  {
   "cell_type": "code",
   "execution_count": 114,
   "metadata": {},
   "outputs": [],
   "source": [
    "import requests\n",
    "import os\n",
    "import json\n",
    "import winsound\n",
    "\n",
    "\n",
    "def get_image(satellite: str, bands, merge=True, img_name: str =\"image\", img_format: str =\"tiff\"):\n",
    "    if not os.path.isdir(\"data\"):\n",
    "        os.mkdir(\"data\")  \n",
    "    if not os.path.isdir(f\"data/{satellite}\"):\n",
    "        os.mkdir(f\"data/{satellite}\")\n",
    "        \n",
    "    if type(bands) is not type(list()):\n",
    "        bands = [bands]\n",
    "    \n",
    "    \n",
    "    band_names = {\n",
    "        4: \"r\", \n",
    "        3: \"g\", \n",
    "        2: \"b\", \n",
    "        8: \"b08\",\n",
    "    }\n",
    "    band_id = {\n",
    "        4:\"B04\",\n",
    "        3:\"B03\",\n",
    "        2:\"B02\",\n",
    "        8:\"B08\",\n",
    "    }\n",
    "    satellite_id = {\n",
    "        \"sentinel\": \"S2L2A\",\n",
    "        \"landsat\": \"L8L1C\",\n",
    "    }\n",
    "    urls = {\n",
    "        \"sentinel\": \"https://services.sentinel-hub.com/api/v1/process\",\n",
    "        \"landsat\": \"https://services-uswest2.sentinel-hub.com/api/v1/process\",\n",
    "    }\n",
    "    \n",
    "    \n",
    "    if not merge:\n",
    "        if type(img_name) is type(list()):\n",
    "            names = img_name\n",
    "        else:\n",
    "            names = band_names\n",
    "            \n",
    "        for name, band in zip(names, bands):\n",
    "            get_image(satellite, band, img_format=img_format, merge=True, img_name=name)\n",
    "        return\n",
    "\n",
    "    \n",
    "    evaluate_pixel_output = \"[\"\n",
    "    for i in list(band_id.keys()):\n",
    "        if i in bands:\n",
    "            evaluate_pixel_output += \"2.5 * sample.\" + band_id[i] + \", \"\n",
    "    evaluate_pixel_output = evaluate_pixel_output[:-2] + \"]\"\n",
    "    \n",
    "    \n",
    "    evalscript = \"\"\"\n",
    "        //VERSION=3\n",
    "\n",
    "        function setup() {\n",
    "          return {\n",
    "            input: \"\"\" + str([band_id[i] for i in bands]) + \"\"\", \n",
    "            output: {\n",
    "              bands: \"\"\" + str(len(bands)) + \"\"\"\n",
    "            }\n",
    "          };\n",
    "        }\n",
    "\n",
    "        function evaluatePixel(\n",
    "          sample,\n",
    "          scenes,\n",
    "          inputMetadata,\n",
    "          customData,\n",
    "          outputMetadata\n",
    "        ) {\n",
    "          return \"\"\" + evaluate_pixel_output + \"\"\"; \n",
    "        }\n",
    "        \"\"\"\n",
    "    \n",
    "    # Checking token:\n",
    "    try:\n",
    "        resp = oauth.get(\"https://services.sentinel-hub.com/oauth/tokeninfo\")\n",
    "    except Exception as e:\n",
    "        #if e.error == \"token_expired\":\n",
    "        token = get_token()    \n",
    "        \n",
    "    req_data = {\n",
    "        \"input\": {\n",
    "            \"bounds\": {\n",
    "                \"bbox\": [\n",
    "                    bottom_left[0],\n",
    "                    bottom_left[1],\n",
    "                    upper_right[0],\n",
    "                    upper_right[1],\n",
    "                ]\n",
    "            },\n",
    "            \"data\": [\n",
    "                {\n",
    "                    \"type\": satellite_id[satellite],\n",
    "                    \"dataFilter\": {\n",
    "                        \"timeRange\": {\n",
    "                            \"from\": from_time,\n",
    "                            \"to\": to_time,\n",
    "                        },\n",
    "                        \"maxCloudCoverage\": maxCloudCoverage,\n",
    "                        \"mosaickingOrder\": mosaickingOrder,\n",
    "                    },\n",
    "                }\n",
    "            ]\n",
    "        },\n",
    "        \"output\": {\n",
    "            \"width\": width,\n",
    "            \"height\": height,\n",
    "            \"responses\": [{\n",
    "                \"format\": {\n",
    "                    \"type\": \"image/\" + img_format\n",
    "                }\n",
    "            }]\n",
    "        },\n",
    "        \"evalscript\": evalscript\n",
    "    }\n",
    "    headers = {\n",
    "        \"Authorization\": f\"Bearer {token}\",\n",
    "    }\n",
    "    url = urls[satellite]\n",
    "            \n",
    "\n",
    "    response = requests.post(url, json=req_data, headers=headers)\n",
    "    \n",
    "    if response.status_code != 200:\n",
    "        info = json.loads(response.text)\n",
    "        for i in info[\"error\"].items():\n",
    "            print(i)\n",
    "    else:\n",
    "        with open(f\"data/{satellite}/{img_name}.{img_format}\", \"wb\") as img:\n",
    "            img.write(response.content)\n",
    "    \n",
    "    winsound.MessageBeep(type=winsound.MB_ICONHAND)"
   ]
  },
  {
   "cell_type": "markdown",
   "metadata": {},
   "source": [
    "## Second part:\n"
   ]
  },
  {
   "cell_type": "code",
   "execution_count": null,
   "metadata": {},
   "outputs": [],
   "source": []
  },
  {
   "cell_type": "code",
   "execution_count": null,
   "metadata": {},
   "outputs": [],
   "source": []
  },
  {
   "cell_type": "code",
   "execution_count": null,
   "metadata": {},
   "outputs": [],
   "source": []
  },
  {
   "cell_type": "code",
   "execution_count": null,
   "metadata": {},
   "outputs": [],
   "source": []
  },
  {
   "cell_type": "code",
   "execution_count": null,
   "metadata": {},
   "outputs": [],
   "source": []
  },
  {
   "cell_type": "markdown",
   "metadata": {},
   "source": [
    "## Third part:"
   ]
  },
  {
   "cell_type": "markdown",
   "metadata": {},
   "source": [
    "### Getting all necessary bands:"
   ]
  },
  {
   "cell_type": "code",
   "execution_count": 7,
   "metadata": {},
   "outputs": [],
   "source": [
    "get_image(\"landsat\", bands=[2, 3, 4], img_name=\"color\")\n",
    "get_image(\"landsat\", bands=8, img_name=\"pchrc\")"
   ]
  },
  {
   "cell_type": "markdown",
   "metadata": {},
   "source": [
    "### Degrading image:"
   ]
  },
  {
   "cell_type": "code",
   "execution_count": 20,
   "metadata": {
    "scrolled": true
   },
   "outputs": [
    {
     "name": "stdout",
     "output_type": "stream",
     "text": [
      "Input file size is 2500, 2500\n",
      "0...10...20...30...40...50...60...70...80...90...100 - done.\n",
      "Input file size is 2500, 2500\n",
      "0...10...20...30...40...50...60...70...80...90...100 - done.\n"
     ]
    }
   ],
   "source": [
    "!gdal_translate -outsize 200% 200%  data\\landsat\\color.tiff data\\landsat\\color_degraded.tiff\n",
    "!gdal_translate -outsize 200% 200%  data\\landsat\\pchrc.tiff data\\landsat\\pchrc_degraded.tiff"
   ]
  },
  {
   "cell_type": "markdown",
   "metadata": {},
   "source": [
    "### Pansharpening:"
   ]
  },
  {
   "cell_type": "code",
   "execution_count": 47,
   "metadata": {},
   "outputs": [
    {
     "name": "stdout",
     "output_type": "stream",
     "text": [
      "0...10...20...30...40...50...60...70...80...90...100 - done.\n"
     ]
    },
    {
     "name": "stderr",
     "output_type": "stream",
     "text": [
      "ERROR 1: Can't load requested DLL: C:\\Program Files\\GDAL\\gdalplugins\\gdal_BAG.dll\n",
      "127: The specified procedure could not be found.\n",
      "\n",
      "ERROR 1: Can't load requested DLL: C:\\Program Files\\GDAL\\gdalplugins\\gdal_BAG.dll\n",
      "127: The specified procedure could not be found.\n",
      "\n",
      "ERROR 1: Can't load requested DLL: C:\\Program Files\\GDAL\\gdalplugins\\gdal_FITS.dll\n",
      "127: The specified procedure could not be found.\n",
      "\n",
      "ERROR 1: Can't load requested DLL: C:\\Program Files\\GDAL\\gdalplugins\\gdal_FITS.dll\n",
      "127: The specified procedure could not be found.\n",
      "\n",
      "ERROR 1: Can't load requested DLL: C:\\Program Files\\GDAL\\gdalplugins\\gdal_GMT.dll\n",
      "127: The specified procedure could not be found.\n",
      "\n",
      "ERROR 1: Can't load requested DLL: C:\\Program Files\\GDAL\\gdalplugins\\gdal_GMT.dll\n",
      "127: The specified procedure could not be found.\n",
      "\n",
      "ERROR 1: Can't load requested DLL: C:\\Program Files\\GDAL\\gdalplugins\\gdal_HDF4.dll\n",
      "127: The specified procedure could not be found.\n",
      "\n",
      "ERROR 1: Can't load requested DLL: C:\\Program Files\\GDAL\\gdalplugins\\gdal_HDF4.dll\n",
      "127: The specified procedure could not be found.\n",
      "\n",
      "ERROR 1: Can't load requested DLL: C:\\Program Files\\GDAL\\gdalplugins\\gdal_HDF4Image.dll\n",
      "127: The specified procedure could not be found.\n",
      "\n",
      "ERROR 1: Can't load requested DLL: C:\\Program Files\\GDAL\\gdalplugins\\gdal_HDF4Image.dll\n",
      "127: The specified procedure could not be found.\n",
      "\n",
      "ERROR 1: Can't load requested DLL: C:\\Program Files\\GDAL\\gdalplugins\\gdal_HDF5.dll\n",
      "127: The specified procedure could not be found.\n",
      "\n",
      "ERROR 1: Can't load requested DLL: C:\\Program Files\\GDAL\\gdalplugins\\gdal_HDF5.dll\n",
      "127: The specified procedure could not be found.\n",
      "\n",
      "ERROR 1: Can't load requested DLL: C:\\Program Files\\GDAL\\gdalplugins\\gdal_HDF5Image.dll\n",
      "127: The specified procedure could not be found.\n",
      "\n",
      "ERROR 1: Can't load requested DLL: C:\\Program Files\\GDAL\\gdalplugins\\gdal_HDF5Image.dll\n",
      "127: The specified procedure could not be found.\n",
      "\n",
      "ERROR 1: Can't load requested DLL: C:\\Program Files\\GDAL\\gdalplugins\\gdal_KEA.dll\n",
      "127: The specified procedure could not be found.\n",
      "\n",
      "ERROR 1: Can't load requested DLL: C:\\Program Files\\GDAL\\gdalplugins\\gdal_KEA.dll\n",
      "127: The specified procedure could not be found.\n",
      "\n",
      "ERROR 1: Can't load requested DLL: C:\\Program Files\\GDAL\\gdalplugins\\gdal_netCDF.dll\n",
      "127: The specified procedure could not be found.\n",
      "\n",
      "ERROR 1: Can't load requested DLL: C:\\Program Files\\GDAL\\gdalplugins\\gdal_netCDF.dll\n",
      "127: The specified procedure could not be found.\n",
      "\n"
     ]
    },
    {
     "name": "stdout",
     "output_type": "stream",
     "text": [
      "Input file size is 5000, 5000\n",
      "0...10...20...30...40...50...60...70...80...90...100 - done.\n"
     ]
    },
    {
     "name": "stderr",
     "output_type": "stream",
     "text": [
      "ERROR 1: Can't load requested DLL: C:\\Program Files\\GDAL\\gdalplugins\\gdal_BAG.dll\n",
      "127: The specified procedure could not be found.\n",
      "\n",
      "\n",
      "ERROR 1: Can't load requested DLL: C:\\Program Files\\GDAL\\gdalplugins\\gdal_BAG.dll\n",
      "127: The specified procedure could not be found.\n",
      "\n",
      "\n",
      "ERROR 1: Can't load requested DLL: C:\\Program Files\\GDAL\\gdalplugins\\gdal_FITS.dll\n",
      "127: The specified procedure could not be found.\n",
      "\n",
      "\n",
      "ERROR 1: Can't load requested DLL: C:\\Program Files\\GDAL\\gdalplugins\\gdal_FITS.dll\n",
      "127: The specified procedure could not be found.\n",
      "\n",
      "\n",
      "ERROR 1: Can't load requested DLL: C:\\Program Files\\GDAL\\gdalplugins\\gdal_GMT.dll\n",
      "127: The specified procedure could not be found.\n",
      "\n",
      "\n",
      "ERROR 1: Can't load requested DLL: C:\\Program Files\\GDAL\\gdalplugins\\gdal_GMT.dll\n",
      "127: The specified procedure could not be found.\n",
      "\n",
      "\n",
      "ERROR 1: Can't load requested DLL: C:\\Program Files\\GDAL\\gdalplugins\\gdal_HDF4.dll\n",
      "127: The specified procedure could not be found.\n",
      "\n",
      "\n",
      "ERROR 1: Can't load requested DLL: C:\\Program Files\\GDAL\\gdalplugins\\gdal_HDF4.dll\n",
      "127: The specified procedure could not be found.\n",
      "\n",
      "\n",
      "ERROR 1: Can't load requested DLL: C:\\Program Files\\GDAL\\gdalplugins\\gdal_HDF4Image.dll\n",
      "127: The specified procedure could not be found.\n",
      "\n",
      "\n",
      "ERROR 1: Can't load requested DLL: C:\\Program Files\\GDAL\\gdalplugins\\gdal_HDF4Image.dll\n",
      "127: The specified procedure could not be found.\n",
      "\n",
      "\n",
      "ERROR 1: Can't load requested DLL: C:\\Program Files\\GDAL\\gdalplugins\\gdal_HDF5.dll\n",
      "127: The specified procedure could not be found.\n",
      "\n",
      "\n",
      "ERROR 1: Can't load requested DLL: C:\\Program Files\\GDAL\\gdalplugins\\gdal_HDF5.dll\n",
      "127: The specified procedure could not be found.\n",
      "\n",
      "\n",
      "ERROR 1: Can't load requested DLL: C:\\Program Files\\GDAL\\gdalplugins\\gdal_HDF5Image.dll\n",
      "127: The specified procedure could not be found.\n",
      "\n",
      "\n",
      "ERROR 1: Can't load requested DLL: C:\\Program Files\\GDAL\\gdalplugins\\gdal_HDF5Image.dll\n",
      "127: The specified procedure could not be found.\n",
      "\n",
      "\n",
      "ERROR 1: Can't load requested DLL: C:\\Program Files\\GDAL\\gdalplugins\\gdal_KEA.dll\n",
      "127: The specified procedure could not be found.\n",
      "\n",
      "\n",
      "ERROR 1: Can't load requested DLL: C:\\Program Files\\GDAL\\gdalplugins\\gdal_KEA.dll\n",
      "127: The specified procedure could not be found.\n",
      "\n",
      "\n",
      "ERROR 1: Can't load requested DLL: C:\\Program Files\\GDAL\\gdalplugins\\gdal_netCDF.dll\n",
      "127: The specified procedure could not be found.\n",
      "\n",
      "\n",
      "ERROR 1: Can't load requested DLL: C:\\Program Files\\GDAL\\gdalplugins\\gdal_netCDF.dll\n",
      "127: The specified procedure could not be found.\n",
      "\n",
      "\n"
     ]
    }
   ],
   "source": [
    "!python gdal\\gdal_pansharpen.py -r average data\\landsat\\pchrc_degraded.tiff data\\landsat\\color_degraded.tiff data\\landsat\\pansharpened.tiff\n",
    "!gdal_translate -outsize 50% 50%  data\\landsat\\pansharpened.tiff data\\landsat\\pansharpened_degraded.tiff"
   ]
  },
  {
   "cell_type": "markdown",
   "metadata": {},
   "source": [
    "### Calculating accuracy of pansharpening:"
   ]
  },
  {
   "cell_type": "code",
   "execution_count": 43,
   "metadata": {},
   "outputs": [
    {
     "data": {
      "text/plain": [
       "0.017678133333333332"
      ]
     },
     "execution_count": 43,
     "metadata": {},
     "output_type": "execute_result"
    }
   ],
   "source": [
    "import gdal\n",
    "import numpy as np\n",
    "from sklearn.metrics import accuracy_score as accuracy\n",
    "\n",
    "orig = gdal.Open(\"data\\landsat\\color.tiff\").ReadAsArray().astype(np.float32)\n",
    "pshd = gdal.Open(\"data\\landsat\\pansharpened_degraded.tiff\").ReadAsArray().astype(np.float32)\n",
    "\n",
    "orig = orig.reshape(orig.size)\n",
    "pshd = pshd.reshape(pshd.size)\n",
    "\n",
    "accuracy(orig, pshd)"
   ]
  },
  {
   "cell_type": "markdown",
   "metadata": {},
   "source": [
    "# TIME FOR EXPERIMENTS!!!11!"
   ]
  },
  {
   "cell_type": "code",
   "execution_count": 140,
   "metadata": {},
   "outputs": [],
   "source": [
    "bottom_left = (39.56888717651368, 47.951004999484974)\n",
    "upper_right = (39.76888717651368, 48.151004999484974)\n",
    "\n",
    "#Filtering options:\n",
    "from_time = \"2017-04-01T00:00:00Z\"\n",
    "to_time = \"2020-05-01T00:00:00Z\"\n",
    "maxCloudCoverage = 0\n",
    "mosaickingOrder = \"leastRecent\"\n",
    "\n",
    "#Image size in px: (2500px is max)\n",
    "width = 2500\n",
    "height = 2500"
   ]
  },
  {
   "cell_type": "code",
   "execution_count": 141,
   "metadata": {},
   "outputs": [],
   "source": [
    "get_image(\"landsat\", bands=[2, 3, 4], img_name=\"color\")"
   ]
  },
  {
   "cell_type": "code",
   "execution_count": 142,
   "metadata": {
    "scrolled": true
   },
   "outputs": [
    {
     "name": "stdout",
     "output_type": "stream",
     "text": [
      "Input file size is 2500, 2500\n",
      "0...10...20...30...40...50...60...70...80...90...100 - done.\n"
     ]
    },
    {
     "name": "stderr",
     "output_type": "stream",
     "text": [
      "ERROR 1: Can't load requested DLL: C:\\Program Files\\GDAL\\gdalplugins\\gdal_BAG.dll\n",
      "127: The specified procedure could not be found.\n",
      "\n",
      "\n",
      "ERROR 1: Can't load requested DLL: C:\\Program Files\\GDAL\\gdalplugins\\gdal_BAG.dll\n",
      "127: The specified procedure could not be found.\n",
      "\n",
      "\n",
      "ERROR 1: Can't load requested DLL: C:\\Program Files\\GDAL\\gdalplugins\\gdal_FITS.dll\n",
      "127: The specified procedure could not be found.\n",
      "\n",
      "\n",
      "ERROR 1: Can't load requested DLL: C:\\Program Files\\GDAL\\gdalplugins\\gdal_FITS.dll\n",
      "127: The specified procedure could not be found.\n",
      "\n",
      "\n",
      "ERROR 1: Can't load requested DLL: C:\\Program Files\\GDAL\\gdalplugins\\gdal_GMT.dll\n",
      "127: The specified procedure could not be found.\n",
      "\n",
      "\n",
      "ERROR 1: Can't load requested DLL: C:\\Program Files\\GDAL\\gdalplugins\\gdal_GMT.dll\n",
      "127: The specified procedure could not be found.\n",
      "\n",
      "\n",
      "ERROR 1: Can't load requested DLL: C:\\Program Files\\GDAL\\gdalplugins\\gdal_HDF4.dll\n",
      "127: The specified procedure could not be found.\n",
      "\n",
      "\n",
      "ERROR 1: Can't load requested DLL: C:\\Program Files\\GDAL\\gdalplugins\\gdal_HDF4.dll\n",
      "127: The specified procedure could not be found.\n",
      "\n",
      "\n",
      "ERROR 1: Can't load requested DLL: C:\\Program Files\\GDAL\\gdalplugins\\gdal_HDF4Image.dll\n",
      "127: The specified procedure could not be found.\n",
      "\n",
      "\n",
      "ERROR 1: Can't load requested DLL: C:\\Program Files\\GDAL\\gdalplugins\\gdal_HDF4Image.dll\n",
      "127: The specified procedure could not be found.\n",
      "\n",
      "\n",
      "ERROR 1: Can't load requested DLL: C:\\Program Files\\GDAL\\gdalplugins\\gdal_HDF5.dll\n",
      "127: The specified procedure could not be found.\n",
      "\n",
      "\n",
      "ERROR 1: Can't load requested DLL: C:\\Program Files\\GDAL\\gdalplugins\\gdal_HDF5.dll\n",
      "127: The specified procedure could not be found.\n",
      "\n",
      "\n",
      "ERROR 1: Can't load requested DLL: C:\\Program Files\\GDAL\\gdalplugins\\gdal_HDF5Image.dll\n",
      "127: The specified procedure could not be found.\n",
      "\n",
      "\n",
      "ERROR 1: Can't load requested DLL: C:\\Program Files\\GDAL\\gdalplugins\\gdal_HDF5Image.dll\n",
      "127: The specified procedure could not be found.\n",
      "\n",
      "\n",
      "ERROR 1: Can't load requested DLL: C:\\Program Files\\GDAL\\gdalplugins\\gdal_KEA.dll\n",
      "127: The specified procedure could not be found.\n",
      "\n",
      "\n",
      "ERROR 1: Can't load requested DLL: C:\\Program Files\\GDAL\\gdalplugins\\gdal_KEA.dll\n",
      "127: The specified procedure could not be found.\n",
      "\n",
      "\n",
      "ERROR 1: Can't load requested DLL: C:\\Program Files\\GDAL\\gdalplugins\\gdal_netCDF.dll\n",
      "127: The specified procedure could not be found.\n",
      "\n",
      "\n",
      "ERROR 1: Can't load requested DLL: C:\\Program Files\\GDAL\\gdalplugins\\gdal_netCDF.dll\n",
      "127: The specified procedure could not be found.\n",
      "\n",
      "\n"
     ]
    },
    {
     "name": "stdout",
     "output_type": "stream",
     "text": [
      "Input file size is 2500, 2500\n",
      "0...10...20...30...40...50...60...70...80...90...100 - done.\n"
     ]
    },
    {
     "name": "stderr",
     "output_type": "stream",
     "text": [
      "ERROR 1: Can't load requested DLL: C:\\Program Files\\GDAL\\gdalplugins\\gdal_BAG.dll\n",
      "127: The specified procedure could not be found.\n",
      "\n",
      "\n",
      "ERROR 1: Can't load requested DLL: C:\\Program Files\\GDAL\\gdalplugins\\gdal_BAG.dll\n",
      "127: The specified procedure could not be found.\n",
      "\n",
      "\n",
      "ERROR 1: Can't load requested DLL: C:\\Program Files\\GDAL\\gdalplugins\\gdal_FITS.dll\n",
      "127: The specified procedure could not be found.\n",
      "\n",
      "\n",
      "ERROR 1: Can't load requested DLL: C:\\Program Files\\GDAL\\gdalplugins\\gdal_FITS.dll\n",
      "127: The specified procedure could not be found.\n",
      "\n",
      "\n",
      "ERROR 1: Can't load requested DLL: C:\\Program Files\\GDAL\\gdalplugins\\gdal_GMT.dll\n",
      "127: The specified procedure could not be found.\n",
      "\n",
      "\n",
      "ERROR 1: Can't load requested DLL: C:\\Program Files\\GDAL\\gdalplugins\\gdal_GMT.dll\n",
      "127: The specified procedure could not be found.\n",
      "\n",
      "\n",
      "ERROR 1: Can't load requested DLL: C:\\Program Files\\GDAL\\gdalplugins\\gdal_HDF4.dll\n",
      "127: The specified procedure could not be found.\n",
      "\n",
      "\n",
      "ERROR 1: Can't load requested DLL: C:\\Program Files\\GDAL\\gdalplugins\\gdal_HDF4.dll\n",
      "127: The specified procedure could not be found.\n",
      "\n",
      "\n",
      "ERROR 1: Can't load requested DLL: C:\\Program Files\\GDAL\\gdalplugins\\gdal_HDF4Image.dll\n",
      "127: The specified procedure could not be found.\n",
      "\n",
      "\n",
      "ERROR 1: Can't load requested DLL: C:\\Program Files\\GDAL\\gdalplugins\\gdal_HDF4Image.dll\n",
      "127: The specified procedure could not be found.\n",
      "\n",
      "\n",
      "ERROR 1: Can't load requested DLL: C:\\Program Files\\GDAL\\gdalplugins\\gdal_HDF5.dll\n",
      "127: The specified procedure could not be found.\n",
      "\n",
      "\n",
      "ERROR 1: Can't load requested DLL: C:\\Program Files\\GDAL\\gdalplugins\\gdal_HDF5.dll\n",
      "127: The specified procedure could not be found.\n",
      "\n",
      "\n",
      "ERROR 1: Can't load requested DLL: C:\\Program Files\\GDAL\\gdalplugins\\gdal_HDF5Image.dll\n",
      "127: The specified procedure could not be found.\n",
      "\n",
      "\n",
      "ERROR 1: Can't load requested DLL: C:\\Program Files\\GDAL\\gdalplugins\\gdal_HDF5Image.dll\n",
      "127: The specified procedure could not be found.\n",
      "\n",
      "\n",
      "ERROR 1: Can't load requested DLL: C:\\Program Files\\GDAL\\gdalplugins\\gdal_KEA.dll\n",
      "127: The specified procedure could not be found.\n",
      "\n",
      "\n",
      "ERROR 1: Can't load requested DLL: C:\\Program Files\\GDAL\\gdalplugins\\gdal_KEA.dll\n",
      "127: The specified procedure could not be found.\n",
      "\n",
      "\n",
      "ERROR 1: Can't load requested DLL: C:\\Program Files\\GDAL\\gdalplugins\\gdal_netCDF.dll\n",
      "127: The specified procedure could not be found.\n",
      "\n",
      "\n",
      "ERROR 1: Can't load requested DLL: C:\\Program Files\\GDAL\\gdalplugins\\gdal_netCDF.dll\n",
      "127: The specified procedure could not be found.\n",
      "\n",
      "\n"
     ]
    },
    {
     "name": "stdout",
     "output_type": "stream",
     "text": [
      "0...10...20...30...40...50...60...70...80...90...100 - done.\n"
     ]
    },
    {
     "name": "stderr",
     "output_type": "stream",
     "text": [
      "ERROR 1: Can't load requested DLL: C:\\Program Files\\GDAL\\gdalplugins\\gdal_BAG.dll\n",
      "127: The specified procedure could not be found.\n",
      "\n",
      "ERROR 1: Can't load requested DLL: C:\\Program Files\\GDAL\\gdalplugins\\gdal_BAG.dll\n",
      "127: The specified procedure could not be found.\n",
      "\n",
      "ERROR 1: Can't load requested DLL: C:\\Program Files\\GDAL\\gdalplugins\\gdal_FITS.dll\n",
      "127: The specified procedure could not be found.\n",
      "\n",
      "ERROR 1: Can't load requested DLL: C:\\Program Files\\GDAL\\gdalplugins\\gdal_FITS.dll\n",
      "127: The specified procedure could not be found.\n",
      "\n",
      "ERROR 1: Can't load requested DLL: C:\\Program Files\\GDAL\\gdalplugins\\gdal_GMT.dll\n",
      "127: The specified procedure could not be found.\n",
      "\n",
      "ERROR 1: Can't load requested DLL: C:\\Program Files\\GDAL\\gdalplugins\\gdal_GMT.dll\n",
      "127: The specified procedure could not be found.\n",
      "\n",
      "ERROR 1: Can't load requested DLL: C:\\Program Files\\GDAL\\gdalplugins\\gdal_HDF4.dll\n",
      "127: The specified procedure could not be found.\n",
      "\n",
      "ERROR 1: Can't load requested DLL: C:\\Program Files\\GDAL\\gdalplugins\\gdal_HDF4.dll\n",
      "127: The specified procedure could not be found.\n",
      "\n",
      "ERROR 1: Can't load requested DLL: C:\\Program Files\\GDAL\\gdalplugins\\gdal_HDF4Image.dll\n",
      "127: The specified procedure could not be found.\n",
      "\n",
      "ERROR 1: Can't load requested DLL: C:\\Program Files\\GDAL\\gdalplugins\\gdal_HDF4Image.dll\n",
      "127: The specified procedure could not be found.\n",
      "\n",
      "ERROR 1: Can't load requested DLL: C:\\Program Files\\GDAL\\gdalplugins\\gdal_HDF5.dll\n",
      "127: The specified procedure could not be found.\n",
      "\n",
      "ERROR 1: Can't load requested DLL: C:\\Program Files\\GDAL\\gdalplugins\\gdal_HDF5.dll\n",
      "127: The specified procedure could not be found.\n",
      "\n",
      "ERROR 1: Can't load requested DLL: C:\\Program Files\\GDAL\\gdalplugins\\gdal_HDF5Image.dll\n",
      "127: The specified procedure could not be found.\n",
      "\n",
      "ERROR 1: Can't load requested DLL: C:\\Program Files\\GDAL\\gdalplugins\\gdal_HDF5Image.dll\n",
      "127: The specified procedure could not be found.\n",
      "\n",
      "ERROR 1: Can't load requested DLL: C:\\Program Files\\GDAL\\gdalplugins\\gdal_KEA.dll\n",
      "127: The specified procedure could not be found.\n",
      "\n",
      "ERROR 1: Can't load requested DLL: C:\\Program Files\\GDAL\\gdalplugins\\gdal_KEA.dll\n",
      "127: The specified procedure could not be found.\n",
      "\n",
      "ERROR 1: Can't load requested DLL: C:\\Program Files\\GDAL\\gdalplugins\\gdal_netCDF.dll\n",
      "127: The specified procedure could not be found.\n",
      "\n",
      "ERROR 1: Can't load requested DLL: C:\\Program Files\\GDAL\\gdalplugins\\gdal_netCDF.dll\n",
      "127: The specified procedure could not be found.\n",
      "\n"
     ]
    }
   ],
   "source": [
    "get_image(\"landsat\", bands=8, img_name=\"pchrc\")\n",
    "\n",
    "!gdal_translate -outsize 200% 200%  data\\landsat\\color.tiff data\\landsat\\color_degraded.tiff\n",
    "!gdal_translate -outsize 200% 200%  data\\landsat\\pchrc.tiff data\\landsat\\pchrc_degraded.tiff\n",
    "\n",
    "!python gdal\\gdal_pansharpen.py -r average data\\landsat\\pchrc_degraded.tiff data\\landsat\\color_degraded.tiff data\\landsat\\pansharpened.tiff"
   ]
  },
  {
   "cell_type": "code",
   "execution_count": null,
   "metadata": {},
   "outputs": [],
   "source": []
  }
 ],
 "metadata": {
  "kernelspec": {
   "display_name": "Python 3",
   "language": "python",
   "name": "python3"
  },
  "language_info": {
   "codemirror_mode": {
    "name": "ipython",
    "version": 3
   },
   "file_extension": ".py",
   "mimetype": "text/x-python",
   "name": "python",
   "nbconvert_exporter": "python",
   "pygments_lexer": "ipython3",
   "version": "3.7.6"
  }
 },
 "nbformat": 4,
 "nbformat_minor": 4
}